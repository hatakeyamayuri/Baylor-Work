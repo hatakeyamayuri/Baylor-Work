{
 "cells": [
  {
   "cell_type": "markdown",
   "id": "9c9a2ac9",
   "metadata": {},
   "source": [
    "N35."
   ]
  },
  {
   "cell_type": "code",
   "execution_count": null,
   "id": "fe33a179",
   "metadata": {},
   "outputs": [
    {
     "name": "stdout",
     "output_type": "stream",
     "text": [
      "a) 30\n",
      "b) 15.0\n",
      "c) -8.0\n",
      "d) 0.09999999999999999\n",
      "e) 512\n",
      "f) 0\n",
      "g) -4\n",
      "h) 0.1\n"
     ]
    }
   ],
   "source": [
    "print(\"a)\", 7 * 6 - 4 * 3) # 7 * 6 = 42. 4 * 3 = 12. 42 - 12 = 30\n",
    "print(\"b)\", 5 + 2**3/2 * 3-2) # 2 ** 3 = 8. 8 / 2 = 4. 4 * 3 = 12. 5 + 12 - 2 = 15\n",
    "print(\"c)\", 9 // 2 * - 4 / 2) # 9 // 2 = 4. 4 * -4 = -16. -16 / 2 = -8\n",
    "print(\"d)\", 6 / 5 / 4 / 3) # 6 / 5 = 1.2, 1.2 / 4 = 0.3, 0.3 / 3 = .1 (but 0.0999... bc of finite rounding)\n",
    "print(\"e)\", 2**3**2) # 2 ** 3 = 8. 8 ** 3 = 512\n",
    "print(\"f)\", 9 % 17 * 14 % 3) # 9 % (mod - remainder only) 17 = 9. 9 * 14 = 126. 126 % 3 = 0\n",
    "print(\"g)\", -11 // 3) # -11 // 3 = -3.666... which rounds to -4\n",
    "print(\"h)\", 6 / 3 / 4 / 5) # 6 / 3 = 2, 2 / 4 = 0.5, 0.5 / 5 = 0.1"
   ]
  }
 ],
 "metadata": {
  "kernelspec": {
   "display_name": "python3.12",
   "language": "python",
   "name": "python3"
  },
  "language_info": {
   "codemirror_mode": {
    "name": "ipython",
    "version": 3
   },
   "file_extension": ".py",
   "mimetype": "text/x-python",
   "name": "python",
   "nbconvert_exporter": "python",
   "pygments_lexer": "ipython3",
   "version": "3.12.9"
  }
 },
 "nbformat": 4,
 "nbformat_minor": 5
}
